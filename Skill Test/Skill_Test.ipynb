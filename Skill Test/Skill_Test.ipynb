{
  "nbformat": 4,
  "nbformat_minor": 0,
  "metadata": {
    "colab": {
      "provenance": [],
      "authorship_tag": "ABX9TyMpw4OhA/gFqiH6Pu3a0h1W",
      "include_colab_link": true
    },
    "kernelspec": {
      "name": "python3",
      "display_name": "Python 3"
    },
    "language_info": {
      "name": "python"
    }
  },
  "cells": [
    {
      "cell_type": "markdown",
      "metadata": {
        "id": "view-in-github",
        "colab_type": "text"
      },
      "source": [
        "<a href=\"https://colab.research.google.com/github/regondolajezreel/CPE-201L-DSA-2A/blob/main/SkillTest.ipynb\" target=\"_parent\"><img src=\"https://colab.research.google.com/assets/colab-badge.svg\" alt=\"Open In Colab\"/></a>"
      ]
    },
    {
      "cell_type": "code",
      "source": [
        "try:\n",
        "    del input\n",
        "except NameError:\n",
        "    pass\n",
        "\n",
        "class Node:\n",
        "  def __init__(self, data):\n",
        "    self.data = data\n",
        "    self.next = None\n",
        "\n",
        "class LinkedList:\n",
        "  def __init__(self):\n",
        "    self.head = None\n",
        "    self.tail = None\n",
        "\n",
        "  def append(self, value):\n",
        "    new_node = Node(value)\n",
        "    if self.head is None:\n",
        "      self.head = new_node\n",
        "      self.tail = new_node\n",
        "    else:\n",
        "      self.tail.next = new_node\n",
        "      self.tail = new_node\n",
        "\n",
        "def switch(index):\n",
        "  if index + 1 == 1:\n",
        "    return \"st\"\n",
        "  elif index + 1 == 2:\n",
        "    return \"nd\"\n",
        "  elif index + 1 == 3:\n",
        "    return \"rd\"\n",
        "  else:\n",
        "    return \"th\"\n",
        "\n",
        "def display(current):\n",
        "    print(\"\\nYour full name (as letters entered): \", end=\"\")\n",
        "    while current:\n",
        "      print(current.data, end=\"\")\n",
        "      if current.next:\n",
        "        print(\" -> \", end=\"\")\n",
        "      current = current.next\n",
        "    print()\n",
        "\n",
        "if __name__ == \"__main__\":\n",
        "\n",
        "  my_list = LinkedList()\n",
        "\n",
        "  unfinished = True\n",
        "  i = 0\n",
        "  while(unfinished):\n",
        "    indicator = switch(i)\n",
        "    user_input = input((f\"Enter the {i + 1}{indicator} letter of your fullname (if done enter 0): \"))\n",
        "\n",
        "    while not (user_input.isalpha() and len(user_input) == 1) and user_input != '0':\n",
        "      print(\"\\nInvalid input. Please enter a single letter or '0' to finish.\")\n",
        "      user_input = input(f\"Enter the {i + 1}{indicator} letter of your fullname (if done enter 0): \")\n",
        "\n",
        "    if user_input == \"0\":\n",
        "      unfinished = False\n",
        "    else:\n",
        "      my_list.append(user_input)\n",
        "\n",
        "    i += 1\n",
        "\n",
        "  current = my_list.head\n",
        "  display(current)"
      ],
      "metadata": {
        "colab": {
          "base_uri": "https://localhost:8080/"
        },
        "id": "7XD8SrACjK0X",
        "outputId": "b7864a3d-167d-480d-c41b-c50ff93d3d69"
      },
      "execution_count": 24,
      "outputs": [
        {
          "output_type": "stream",
          "name": "stdout",
          "text": [
            "Enter the 1st letter of your fullname (if done enter 0): J\n",
            "Enter the 2nd letter of your fullname (if done enter 0): E\n",
            "Enter the 3rd letter of your fullname (if done enter 0): Z\n",
            "Enter the 4th letter of your fullname (if done enter 0): R\n",
            "Enter the 5th letter of your fullname (if done enter 0): E\n",
            "Enter the 6th letter of your fullname (if done enter 0): E\n",
            "Enter the 7th letter of your fullname (if done enter 0): L\n",
            "Enter the 8th letter of your fullname (if done enter 0): P\n",
            "Enter the 9th letter of your fullname (if done enter 0): A\n",
            "Enter the 10th letter of your fullname (if done enter 0): G\n",
            "Enter the 11th letter of your fullname (if done enter 0): A\n",
            "Enter the 12th letter of your fullname (if done enter 0): N\n",
            "Enter the 13th letter of your fullname (if done enter 0): G\n",
            "Enter the 14th letter of your fullname (if done enter 0): P\n",
            "Enter the 15th letter of your fullname (if done enter 0): A\n",
            "Enter the 16th letter of your fullname (if done enter 0): N\n",
            "Enter the 17th letter of your fullname (if done enter 0): G\n",
            "Enter the 18th letter of your fullname (if done enter 0): R\n",
            "Enter the 19th letter of your fullname (if done enter 0): E\n",
            "Enter the 20th letter of your fullname (if done enter 0): G\n",
            "Enter the 21th letter of your fullname (if done enter 0): O\n",
            "Enter the 22th letter of your fullname (if done enter 0): N\n",
            "Enter the 23th letter of your fullname (if done enter 0): D\n",
            "Enter the 24th letter of your fullname (if done enter 0): O\n",
            "Enter the 25th letter of your fullname (if done enter 0): L\n",
            "Enter the 26th letter of your fullname (if done enter 0): A\n",
            "Enter the 27th letter of your fullname (if done enter 0): 0\n",
            "\n",
            "Your full name (as letters entered): J -> E -> Z -> R -> E -> E -> L -> P -> A -> G -> A -> N -> G -> P -> A -> N -> G -> R -> E -> G -> O -> N -> D -> O -> L -> A\n"
          ]
        }
      ]
    }
  ]
}