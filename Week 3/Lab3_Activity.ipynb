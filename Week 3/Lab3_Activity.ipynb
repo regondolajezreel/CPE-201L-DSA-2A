{
  "nbformat": 4,
  "nbformat_minor": 0,
  "metadata": {
    "colab": {
      "provenance": [],
      "authorship_tag": "ABX9TyNZNrMYDeqLqxtKaVcRlnRN",
      "include_colab_link": true
    },
    "kernelspec": {
      "name": "python3",
      "display_name": "Python 3"
    },
    "language_info": {
      "name": "python"
    }
  },
  "cells": [
    {
      "cell_type": "markdown",
      "metadata": {
        "id": "view-in-github",
        "colab_type": "text"
      },
      "source": [
        "<a href=\"https://colab.research.google.com/github/regondolajezreel/CPE-201L-DSA-2A/blob/main/Lab3_Activity.ipynb\" target=\"_parent\"><img src=\"https://colab.research.google.com/assets/colab-badge.svg\" alt=\"Open In Colab\"/></a>"
      ]
    },
    {
      "cell_type": "code",
      "execution_count": null,
      "metadata": {
        "colab": {
          "base_uri": "https://localhost:8080/"
        },
        "id": "U_EwkZzhydyl",
        "outputId": "ae0a1574-6d66-4761-cdda-e5893a928a33"
      },
      "outputs": [
        {
          "output_type": "stream",
          "name": "stdout",
          "text": [
            "Test Scores: 26,49,98,87,62,75\n",
            "Total of even test scores:  186\n"
          ]
        }
      ],
      "source": [
        "test_scores = {26,49,98,87,62,75}\n",
        "total = 0\n",
        "\n",
        "for score in test_scores:\n",
        "  if score % 2 == 0:\n",
        "    total += score\n",
        "  else:\n",
        "    pass\n",
        "\n",
        "print(\"Test Scores: 26,49,98,87,62,75\")\n",
        "print(\"Total of even test scores: \", total)\n",
        "\n"
      ]
    }
  ]
}