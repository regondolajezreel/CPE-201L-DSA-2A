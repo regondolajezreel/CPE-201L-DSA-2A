{
  "nbformat": 4,
  "nbformat_minor": 0,
  "metadata": {
    "colab": {
      "provenance": [],
      "authorship_tag": "ABX9TyNHa/a9qYYU4vunUJLMX2U5",
      "include_colab_link": true
    },
    "kernelspec": {
      "name": "python3",
      "display_name": "Python 3"
    },
    "language_info": {
      "name": "python"
    }
  },
  "cells": [
    {
      "cell_type": "markdown",
      "metadata": {
        "id": "view-in-github",
        "colab_type": "text"
      },
      "source": [
        "<a href=\"https://colab.research.google.com/github/regondolajezreel/CPE-201L-DSA-2A/blob/main/Lab6_Activity.ipynb\" target=\"_parent\"><img src=\"https://colab.research.google.com/assets/colab-badge.svg\" alt=\"Open In Colab\"/></a>"
      ]
    },
    {
      "cell_type": "code",
      "source": [
        "class Node:\n",
        "  def __init__(self,data = None):\n",
        "    self.data = data\n",
        "    self.next = None\n",
        "\n",
        "class SinglyLinkedList:\n",
        "  def __init__(self):\n",
        "    self.head = None\n",
        "    self.tail = None\n",
        "\n",
        "  def append(self, data):\n",
        "    new_node = Node(data)\n",
        "    if not self.head:\n",
        "      self.head = new_node\n",
        "      self.tail = new_node\n",
        "    else:\n",
        "      self.tail.next = new_node\n",
        "      self.tail = new_node\n",
        "\n",
        "  def display(self):\n",
        "    current = self.head\n",
        "    while current:\n",
        "      print(current.data, end = \", \")\n",
        "      current = current.next\n",
        "    print(\"None\")\n",
        "\n",
        "  def get_head(self):\n",
        "    if self.head:\n",
        "      return self.head.data\n",
        "    else:\n",
        "      return None\n",
        "\n",
        "  def get_tail(self):\n",
        "    if self.tail:\n",
        "      return self.tail.data\n",
        "    else:\n",
        "      return None\n",
        "\n",
        "def get_primes(limit):\n",
        "  primes = []\n",
        "  for num in range(2, limit):\n",
        "    is_prime = True\n",
        "    for i in range(2, int(num ** 0.5) + 1):\n",
        "      if num % i == 0:\n",
        "        is_prime = False\n",
        "        break\n",
        "    if is_prime:\n",
        "      primes.append(num)\n",
        "  return primes\n",
        "\n",
        "primes = get_primes(20)\n",
        "linked_list = SinglyLinkedList()\n",
        "\n",
        "for prime in primes:\n",
        "  linked_list.append(prime)\n",
        "\n",
        "print(\"Linked list prime numbers:\")\n",
        "linked_list.display()\n",
        "\n",
        "print(f\"Head of the list: {linked_list.get_head()}\")\n",
        "print(f\"Tail of the list: {linked_list.get_tail()}\")"
      ],
      "metadata": {
        "colab": {
          "base_uri": "https://localhost:8080/"
        },
        "id": "K0e73ZEgSbD6",
        "outputId": "7109fba6-4073-4fb7-8473-2b5ed225cd6b"
      },
      "execution_count": 22,
      "outputs": [
        {
          "output_type": "stream",
          "name": "stdout",
          "text": [
            "Linked list prime numbers:\n",
            "2, 3, 5, 7, 11, 13, 17, 19, None\n",
            "Head of the list: 2\n",
            "Tail of the list: 19\n"
          ]
        }
      ]
    }
  ]
}