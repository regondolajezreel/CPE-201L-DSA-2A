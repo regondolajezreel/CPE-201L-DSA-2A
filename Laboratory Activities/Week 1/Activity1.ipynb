{
  "nbformat": 4,
  "nbformat_minor": 0,
  "metadata": {
    "colab": {
      "provenance": [],
      "authorship_tag": "ABX9TyNSIEtA5XzhVjvDhFbGrZOI",
      "include_colab_link": true
    },
    "kernelspec": {
      "name": "python3",
      "display_name": "Python 3"
    },
    "language_info": {
      "name": "python"
    }
  },
  "cells": [
    {
      "cell_type": "markdown",
      "metadata": {
        "id": "view-in-github",
        "colab_type": "text"
      },
      "source": [
        "<a href=\"https://colab.research.google.com/github/regondolajezreel/CPE-201L-DSA-2A/blob/main/Activity1.ipynb\" target=\"_parent\"><img src=\"https://colab.research.google.com/assets/colab-badge.svg\" alt=\"Open In Colab\"/></a>"
      ]
    },
    {
      "cell_type": "markdown",
      "source": [
        "**Algorithm 1**"
      ],
      "metadata": {
        "id": "q8gNrjZAyxtk"
      }
    },
    {
      "cell_type": "code",
      "execution_count": 12,
      "metadata": {
        "colab": {
          "base_uri": "https://localhost:8080/"
        },
        "id": "8fPOcKAjyvBp",
        "outputId": "b988ed3f-0ba1-49ca-8040-b8983a58bcd8"
      },
      "outputs": [
        {
          "output_type": "stream",
          "name": "stdout",
          "text": [
            "Radius: 8\n",
            "Area:  201.0619\n"
          ]
        }
      ],
      "source": [
        "import math\n",
        "r = float(input(\"Radius: \"))\n",
        "\n",
        "area = math.pi * r**2\n",
        "print(\"Area: \", (round(area, 4)))\n"
      ]
    },
    {
      "cell_type": "markdown",
      "source": [
        "**Algorithm 2**\n",
        "\n"
      ],
      "metadata": {
        "id": "Y5SJ6dtjy2I3"
      }
    },
    {
      "cell_type": "code",
      "source": [
        "import math\n",
        "d = float(input(\"Diameter: \"))\n",
        "\n",
        "area = math.pi * (d/2)**2\n",
        "print(\"Area: \", (round(area, 4)))\n"
      ],
      "metadata": {
        "colab": {
          "base_uri": "https://localhost:8080/"
        },
        "id": "peyj0uM6y2WF",
        "outputId": "4193a46d-a2ea-4bc9-f7ed-7d126db38563"
      },
      "execution_count": 13,
      "outputs": [
        {
          "output_type": "stream",
          "name": "stdout",
          "text": [
            "Diameter: 16\n",
            "Area:  201.0619\n"
          ]
        }
      ]
    }
  ]
}