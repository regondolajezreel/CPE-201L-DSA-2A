{
  "nbformat": 4,
  "nbformat_minor": 0,
  "metadata": {
    "colab": {
      "provenance": [],
      "authorship_tag": "ABX9TyOLjvD72vrnzusML8pFTeAi",
      "include_colab_link": true
    },
    "kernelspec": {
      "name": "python3",
      "display_name": "Python 3"
    },
    "language_info": {
      "name": "python"
    }
  },
  "cells": [
    {
      "cell_type": "markdown",
      "metadata": {
        "id": "view-in-github",
        "colab_type": "text"
      },
      "source": [
        "<a href=\"https://colab.research.google.com/github/regondolajezreel/CPE-201L-DSA-2A/blob/main/Lab2_Activity.ipynb\" target=\"_parent\"><img src=\"https://colab.research.google.com/assets/colab-badge.svg\" alt=\"Open In Colab\"/></a>"
      ]
    },
    {
      "cell_type": "code",
      "execution_count": 2,
      "metadata": {
        "colab": {
          "base_uri": "https://localhost:8080/"
        },
        "id": "cfsIbuZk5KFk",
        "outputId": "c574e2fb-9e3f-4d31-ac01-85a789223ac2"
      },
      "outputs": [
        {
          "output_type": "stream",
          "name": "stdout",
          "text": [
            "Min: 1 Max: 9\n"
          ]
        }
      ],
      "source": [
        "def find_min_max(num):\n",
        "    if len(num) == 1:\n",
        "        return num[0], num[0]\n",
        "    else:\n",
        "        min_val, max_val = find_min_max(num[1:])\n",
        "        return (num[0] if num[0] < min_val else min_val,\n",
        "                num[0] if num[0] > max_val else max_val)\n",
        "\n",
        "nums = [5, 2, 9, 1, 7]\n",
        "min, max = find_min_max(nums)\n",
        "print(\"Min:\", min, \"Max:\", max)"
      ]
    }
  ]
}