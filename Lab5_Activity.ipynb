{
  "nbformat": 4,
  "nbformat_minor": 0,
  "metadata": {
    "colab": {
      "provenance": [],
      "authorship_tag": "ABX9TyPJbakZ4W/HvzXCayMbTo5V",
      "include_colab_link": true
    },
    "kernelspec": {
      "name": "python3",
      "display_name": "Python 3"
    },
    "language_info": {
      "name": "python"
    }
  },
  "cells": [
    {
      "cell_type": "markdown",
      "metadata": {
        "id": "view-in-github",
        "colab_type": "text"
      },
      "source": [
        "<a href=\"https://colab.research.google.com/github/regondolajezreel/CPE-201L-DSA-2A/blob/main/Lab5_Activity.ipynb\" target=\"_parent\"><img src=\"https://colab.research.google.com/assets/colab-badge.svg\" alt=\"Open In Colab\"/></a>"
      ]
    },
    {
      "cell_type": "code",
      "execution_count": null,
      "metadata": {
        "colab": {
          "base_uri": "https://localhost:8080/"
        },
        "id": "mHgUXCEjFrqA",
        "outputId": "2aaf0c4b-26b4-4f5c-c6d0-96ccbe23733c"
      },
      "outputs": [
        {
          "output_type": "stream",
          "name": "stdout",
          "text": [
            "Index 0: 1\n",
            "Index 1: 2\n",
            "Index 2: 3\n",
            "Index 3: 4\n",
            "Index 4: 5\n",
            "Index 5: 6\n",
            "Index 6: 7\n",
            "Index 7: 8\n",
            "Index 8: 9\n",
            "Index 9: 10\n",
            "Total: 55\n"
          ]
        }
      ],
      "source": [
        "def display(integers):\n",
        "  for index, value in enumerate(integers):\n",
        "    print(f\"Index {index}: {value}\")\n",
        "\n",
        "def calculate_sum(integers):\n",
        "  total = 0\n",
        "  for i in integers:\n",
        "    total += i\n",
        "  return total\n",
        "\n",
        "arr = {1,2,3,4,5,6,7,8,9,10}\n",
        "display(arr)\n",
        "print(f\"Total: {calculate_sum(arr)}\")"
      ]
    },
    {
      "cell_type": "code",
      "source": [
        "def append_arr(numbers):\n",
        "  to_append = input(\"\\nEnter a new item to append: \")\n",
        "  numbers.append(to_append)\n",
        "  print(\"\\nNew Array:\")\n",
        "  print(numbers)\n",
        "\n",
        "\n",
        "numbers = [1,2,3,4,5,6,7,8,9,10]\n",
        "print(\"Original Array:\")\n",
        "print(numbers)\n",
        "append_arr(numbers)"
      ],
      "metadata": {
        "colab": {
          "base_uri": "https://localhost:8080/"
        },
        "id": "SdAK1zjWGYdp",
        "outputId": "abbd4588-2431-4218-cecc-23af2e90c64d"
      },
      "execution_count": null,
      "outputs": [
        {
          "output_type": "stream",
          "name": "stdout",
          "text": [
            "Original Array:\n",
            "[1, 2, 3, 4, 5, 6, 7, 8, 9, 10]\n",
            "\n",
            "Enter a new item to append: 11\n",
            "\n",
            "New Array:\n",
            "[1, 2, 3, 4, 5, 6, 7, 8, 9, 10, '11']\n"
          ]
        }
      ]
    },
    {
      "cell_type": "code",
      "source": [
        "def insert_arr(numbers):\n",
        "  to_insert = input(\"\\nEnter a new item to insert before the second element: \")\n",
        "  numbers.insert(1, to_insert)\n",
        "  print(\"\\nNew Array:\")\n",
        "  print(numbers)\n",
        "\n",
        "\n",
        "numbers = [1,2,3,4,5,6,7,8,9,10]\n",
        "print(\"Original Array:\")\n",
        "print(numbers)\n",
        "insert_arr(numbers)"
      ],
      "metadata": {
        "colab": {
          "base_uri": "https://localhost:8080/"
        },
        "id": "v2oFS9hiKS0Y",
        "outputId": "0dc3eca0-8818-4214-99ad-b36b5bbeda69"
      },
      "execution_count": null,
      "outputs": [
        {
          "output_type": "stream",
          "name": "stdout",
          "text": [
            "Original Array:\n",
            "[1, 2, 3, 4, 5, 6, 7, 8, 9, 10]\n",
            "\n",
            "Enter a new item to insert before the second element: 1.5\n",
            "\n",
            "New Array:\n",
            "[1, '1.5', 2, 3, 4, 5, 6, 7, 8, 9, 10]\n"
          ]
        }
      ]
    },
    {
      "cell_type": "code",
      "source": [
        "def reversed_arr(numbers):\n",
        "  reversed = numbers[::-1]\n",
        "  print(\"\\nReversed Array:\")\n",
        "  print(reversed)\n",
        "\n",
        "\n",
        "numbers = [5, 4, 3, 2, 1]\n",
        "print(\"Original Array:\")\n",
        "print(numbers)\n",
        "reversed_arr(numbers)"
      ],
      "metadata": {
        "colab": {
          "base_uri": "https://localhost:8080/"
        },
        "id": "ccdtZnJ9Okzg",
        "outputId": "8fc5b81c-63d5-4005-8632-939c69b093a1"
      },
      "execution_count": null,
      "outputs": [
        {
          "output_type": "stream",
          "name": "stdout",
          "text": [
            "Original Array:\n",
            "[5, 4, 3, 2, 1]\n",
            "\n",
            "Reversed Array:\n",
            "[1, 2, 3, 4, 5]\n"
          ]
        }
      ]
    },
    {
      "cell_type": "code",
      "source": [
        "def get_len(numbers):\n",
        "  length = len(numbers)\n",
        "  print(f\"\\nLength of the array: {length}\")\n",
        "\n",
        "\n",
        "numbers = [5, 4, 3, 2, 1]\n",
        "print(\"Original Array:\")\n",
        "print(numbers)\n",
        "get_len(numbers)"
      ],
      "metadata": {
        "colab": {
          "base_uri": "https://localhost:8080/"
        },
        "id": "ZQ1WREphQkiR",
        "outputId": "13e23a98-639a-4cb6-d7f8-04be76c1a75a"
      },
      "execution_count": null,
      "outputs": [
        {
          "output_type": "stream",
          "name": "stdout",
          "text": [
            "Original Array:\n",
            "[5, 4, 3, 2, 1]\n",
            "\n",
            "Length of the array: 5\n"
          ]
        }
      ]
    }
  ]
}