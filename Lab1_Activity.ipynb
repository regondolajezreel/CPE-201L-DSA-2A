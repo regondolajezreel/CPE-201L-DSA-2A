{
  "nbformat": 4,
  "nbformat_minor": 0,
  "metadata": {
    "colab": {
      "provenance": [],
      "authorship_tag": "ABX9TyPd9K50v8VBGEmTIEgK4lbj",
      "include_colab_link": true
    },
    "kernelspec": {
      "name": "python3",
      "display_name": "Python 3"
    },
    "language_info": {
      "name": "python"
    }
  },
  "cells": [
    {
      "cell_type": "markdown",
      "metadata": {
        "id": "view-in-github",
        "colab_type": "text"
      },
      "source": [
        "<a href=\"https://colab.research.google.com/github/regondolajezreel/CPE-201L-DSA-2A/blob/main/Lab1_Activity.ipynb\" target=\"_parent\"><img src=\"https://colab.research.google.com/assets/colab-badge.svg\" alt=\"Open In Colab\"/></a>"
      ]
    },
    {
      "cell_type": "code",
      "execution_count": 2,
      "metadata": {
        "colab": {
          "base_uri": "https://localhost:8080/"
        },
        "id": "nepQh70e059G",
        "outputId": "8f008b66-a393-43b7-c42d-e379723f0883"
      },
      "outputs": [
        {
          "output_type": "stream",
          "name": "stdout",
          "text": [
            "Name: Triangle\n",
            "Sides: 3\n",
            "Area: 15.5\n",
            "Updated Name: Square\n",
            "Updated Sides: 4\n",
            "Updated Area: 25.0\n"
          ]
        }
      ],
      "source": [
        "class Polygons:\n",
        "    def __init__(self, name, sides, area):\n",
        "        self.name = name\n",
        "        self.sides = sides\n",
        "        self.area = area\n",
        "\n",
        "    def set_name(self, name):\n",
        "        self.name = name\n",
        "\n",
        "    def set_sides(self, sides):\n",
        "        self.sides = sides\n",
        "\n",
        "    def set_area(self, area):\n",
        "        self.area = area\n",
        "\n",
        "    def get_name(self):\n",
        "        return self.name\n",
        "\n",
        "    def get_sides(self):\n",
        "        return self.sides\n",
        "\n",
        "    def get_area(self):\n",
        "        return self.area\n",
        "\n",
        "poly = Polygons(\"Triangle\", 3, 15.5)\n",
        "\n",
        "print(\"Name:\", poly.get_name())\n",
        "print(\"Sides:\", poly.get_sides())\n",
        "print(\"Area:\", poly.get_area())\n",
        "\n",
        "poly.set_name(\"Square\")\n",
        "poly.set_sides(4)\n",
        "poly.set_area(25.0)\n",
        "\n",
        "print(\"Updated Name:\", poly.get_name())\n",
        "print(\"Updated Sides:\", poly.get_sides())\n",
        "print(\"Updated Area:\", poly.get_area())"
      ]
    }
  ]
}